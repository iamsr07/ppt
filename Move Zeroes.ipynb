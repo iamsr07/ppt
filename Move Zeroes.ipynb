class Solution(object):
    def moveZeroes(self, nums):
        """
        :type nums: List[int]
        :rtype: None Do not return anything, modify nums in-place instead.
        """
        left = 0
        n = len(nums)
        for var in range(n):
            if nums[var] != 0:
                nums[left], nums[var] = nums[var], nums[left]
                left += 1
