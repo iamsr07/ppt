class Solution:
    def firstUniqChar(self, s: str) -> int:

      count = {}
        
        n = len(s)
      
        for i in range(n):
            c = s[i]
            count[c] = count.get(c, 0) + 1

        for i in range(n):
            if count[s[i]] == 1:
                return i
        return -1
